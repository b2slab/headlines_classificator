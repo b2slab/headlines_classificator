{
 "cells": [
  {
   "cell_type": "code",
   "execution_count": 1,
   "metadata": {},
   "outputs": [
    {
     "name": "stderr",
     "output_type": "stream",
     "text": [
      "/usr/local/lib/python3.5/dist-packages/h5py/__init__.py:34: FutureWarning: Conversion of the second argument of issubdtype from `float` to `np.floating` is deprecated. In future, it will be treated as `np.float64 == np.dtype(float).type`.\n",
      "  from ._conv import register_converters as _register_converters\n",
      "Using TensorFlow backend.\n"
     ]
    }
   ],
   "source": [
    "import pickle\n",
    "import time\n",
    "import os\n",
    "\n",
    "import numpy as np\n",
    "import pydot\n",
    "import graphviz\n",
    "import glob\n",
    "from unidecode import unidecode\n",
    "import matplotlib.pyplot as plt\n",
    "\n",
    "from sklearn.preprocessing import LabelEncoder\n",
    "from sklearn import metrics\n",
    "from sklearn.model_selection import KFold, cross_val_score\n",
    "\n",
    "from keras.models import Sequential\n",
    "from keras.layers import Dense, Dropout, LSTM, Flatten\n",
    "from keras.callbacks import ModelCheckpoint\n",
    "from keras.layers.embeddings import Embedding\n",
    "from keras.layers.convolutional import Conv1D, MaxPooling1D\n",
    "from keras.optimizers import Adam\n",
    "from keras.preprocessing import sequence, text\n",
    "from keras.utils import np_utils, plot_model\n",
    "from keras.wrappers.scikit_learn import KerasClassifier\n",
    "\n",
    "from classes import *\n",
    "\n",
    "# fix random seed for reproducibility\n",
    "np.random.seed(7)"
   ]
  },
  {
   "cell_type": "code",
   "execution_count": 2,
   "metadata": {
    "collapsed": true
   },
   "outputs": [],
   "source": [
    "#para usar solo una GPU\n",
    "os.environ[\"CUDA_VISIBLE_DEVICES\"]=\"0\"\n",
    "import tensorflow as tf \n",
    "from keras.backend.tensorflow_backend import set_session \n",
    "config = tf.ConfigProto() \n",
    "config.gpu_options.per_process_gpu_memory_fraction = 1\n",
    "set_session(tf.Session(config = config))"
   ]
  },
  {
   "cell_type": "code",
   "execution_count": 3,
   "metadata": {
    "collapsed": true
   },
   "outputs": [],
   "source": [
    "#Loading the pickle file with the dictionary Journal - List of headlines\n",
    "#f = open('titulares_creados/headlines_final.pckl', 'rb')\n",
    "f = open('merged_headlines.pckl', 'rb')\n",
    "lista_periodicos = pickle.load(f)\n",
    "f.close()"
   ]
  },
  {
   "cell_type": "code",
   "execution_count": 4,
   "metadata": {
    "collapsed": true
   },
   "outputs": [],
   "source": [
    "#Creating the Headlines object from the pickle file\n",
    "ep = 'http://ep00.epimg.net/rss/elpais/portada.xml'\n",
    "em = 'http://estaticos.elmundo.es/elmundo/rss/portada.xml'\n",
    "lv = 'http://www.lavanguardia.com/mvc/feed/rss/home.xml'\n",
    "lr = 'http://www.larazon.es/rss/portada.xml'\n",
    "abc = 'http://www.abc.es/rss/feeds/abcPortada.xml'\n",
    "\n",
    "urls = [ep, em, lv, lr, abc]\n",
    "journals = ['El Pais', 'El Mundo', 'La Vanguardia', 'La Razon', 'ABC']\n",
    "\n",
    "data = Headlines(periodicos=journals, urls=urls, titulares=lista_periodicos) "
   ]
  },
  {
   "cell_type": "code",
   "execution_count": 5,
   "metadata": {},
   "outputs": [
    {
     "name": "stdout",
     "output_type": "stream",
     "text": [
      "<class 'pandas.core.frame.DataFrame'>\n",
      "RangeIndex: 183206 entries, 0 to 183205\n",
      "Data columns (total 2 columns):\n",
      "Headline    183206 non-null object\n",
      "Journal     183206 non-null object\n",
      "dtypes: object(2)\n",
      "memory usage: 2.8+ MB\n"
     ]
    }
   ],
   "source": [
    "#Creating dataframe from the headlines\n",
    "periodicos_df = Headlines.dataframing_headlines(data)\n",
    "periodicos_df.info()"
   ]
  },
  {
   "cell_type": "code",
   "execution_count": 6,
   "metadata": {},
   "outputs": [
    {
     "name": "stdout",
     "output_type": "stream",
     "text": [
      "El Pais 21406\n",
      "El Mundo 60946\n",
      "La Vanguardia 68746\n",
      "La Razon 11026\n",
      "ABC 21082\n"
     ]
    }
   ],
   "source": [
    "# How many headlines there are of each journal?\n",
    "# We should limit the number of headlines in each journal to the minimum number available for one of the classes\n",
    "min_number = Headlines.min_hl_number(data, periodicos_df) "
   ]
  },
  {
   "cell_type": "code",
   "execution_count": 7,
   "metadata": {},
   "outputs": [
    {
     "data": {
      "text/html": [
       "<div>\n",
       "<style scoped>\n",
       "    .dataframe tbody tr th:only-of-type {\n",
       "        vertical-align: middle;\n",
       "    }\n",
       "\n",
       "    .dataframe tbody tr th {\n",
       "        vertical-align: top;\n",
       "    }\n",
       "\n",
       "    .dataframe thead th {\n",
       "        text-align: right;\n",
       "    }\n",
       "</style>\n",
       "<table border=\"1\" class=\"dataframe\">\n",
       "  <thead>\n",
       "    <tr style=\"text-align: right;\">\n",
       "      <th></th>\n",
       "      <th>Headline</th>\n",
       "      <th>Journal</th>\n",
       "    </tr>\n",
       "  </thead>\n",
       "  <tbody>\n",
       "    <tr>\n",
       "      <th>0</th>\n",
       "      <td>Vuelve para violar a su amiga tras dejarla en ...</td>\n",
       "      <td>ABC</td>\n",
       "    </tr>\n",
       "    <tr>\n",
       "      <th>1</th>\n",
       "      <td>El ministro del Interior belga: España “ha ido...</td>\n",
       "      <td>La Vanguardia</td>\n",
       "    </tr>\n",
       "    <tr>\n",
       "      <th>2</th>\n",
       "      <td>Hasta tres cucharadas y media de azúcar en un ...</td>\n",
       "      <td>El Mundo</td>\n",
       "    </tr>\n",
       "    <tr>\n",
       "      <th>3</th>\n",
       "      <td>El Parlamento británico insiste en que Mark Zu...</td>\n",
       "      <td>La Vanguardia</td>\n",
       "    </tr>\n",
       "    <tr>\n",
       "      <th>4</th>\n",
       "      <td>Es Satty, el imam al que le explotó 'la madre ...</td>\n",
       "      <td>El Mundo</td>\n",
       "    </tr>\n",
       "    <tr>\n",
       "      <th>5</th>\n",
       "      <td>Cristina Cifuentes renuncia a su acta de diput...</td>\n",
       "      <td>ABC</td>\n",
       "    </tr>\n",
       "    <tr>\n",
       "      <th>6</th>\n",
       "      <td>Guardiola, que ya votó por correo, insiste: \"N...</td>\n",
       "      <td>El Mundo</td>\n",
       "    </tr>\n",
       "    <tr>\n",
       "      <th>7</th>\n",
       "      <td>El 'Forrest Gump' de Libia: correr a Moscú par...</td>\n",
       "      <td>El Mundo</td>\n",
       "    </tr>\n",
       "    <tr>\n",
       "      <th>8</th>\n",
       "      <td>La firma de hipotecas para la compra de vivien...</td>\n",
       "      <td>ABC</td>\n",
       "    </tr>\n",
       "    <tr>\n",
       "      <th>9</th>\n",
       "      <td>Willy Toledo cita a la Policía: \"Estaré toda l...</td>\n",
       "      <td>El Mundo</td>\n",
       "    </tr>\n",
       "    <tr>\n",
       "      <th>10</th>\n",
       "      <td>«Un tango más»: La extraña pareja</td>\n",
       "      <td>La Razon</td>\n",
       "    </tr>\n",
       "    <tr>\n",
       "      <th>11</th>\n",
       "      <td>El ministro del Interior amenaza con dimitir y...</td>\n",
       "      <td>El Pais</td>\n",
       "    </tr>\n",
       "    <tr>\n",
       "      <th>12</th>\n",
       "      <td>El espectro de Paulino lleva cuchillo</td>\n",
       "      <td>El Pais</td>\n",
       "    </tr>\n",
       "    <tr>\n",
       "      <th>13</th>\n",
       "      <td>El nuevo protagonismo de la primera dama divid...</td>\n",
       "      <td>La Razon</td>\n",
       "    </tr>\n",
       "    <tr>\n",
       "      <th>14</th>\n",
       "      <td>La fragilidad moral de Puigdemont y los suyos</td>\n",
       "      <td>La Razon</td>\n",
       "    </tr>\n",
       "    <tr>\n",
       "      <th>15</th>\n",
       "      <td>Los secretos de Carolina Marín en busca de su ...</td>\n",
       "      <td>El Mundo</td>\n",
       "    </tr>\n",
       "    <tr>\n",
       "      <th>16</th>\n",
       "      <td>Filosofía feminista: a pesar de Platón… ¡somos...</td>\n",
       "      <td>La Vanguardia</td>\n",
       "    </tr>\n",
       "    <tr>\n",
       "      <th>17</th>\n",
       "      <td>La deuda pública de España trepa al 98,8%, por...</td>\n",
       "      <td>La Vanguardia</td>\n",
       "    </tr>\n",
       "    <tr>\n",
       "      <th>18</th>\n",
       "      <td>Prisión sin fianza para el autor confeso del c...</td>\n",
       "      <td>ABC</td>\n",
       "    </tr>\n",
       "    <tr>\n",
       "      <th>19</th>\n",
       "      <td>Raphael: «‘‘Mi gran noche’’ es una borrachera ...</td>\n",
       "      <td>La Razon</td>\n",
       "    </tr>\n",
       "    <tr>\n",
       "      <th>20</th>\n",
       "      <td>Cinco muertos y un millón de personas sin elec...</td>\n",
       "      <td>El Mundo</td>\n",
       "    </tr>\n",
       "    <tr>\n",
       "      <th>21</th>\n",
       "      <td>“¿Presos políticos? Es una banalización y falt...</td>\n",
       "      <td>El Pais</td>\n",
       "    </tr>\n",
       "    <tr>\n",
       "      <th>22</th>\n",
       "      <td>Críticas al Gobernador de Canadá por tocar a l...</td>\n",
       "      <td>El Pais</td>\n",
       "    </tr>\n",
       "    <tr>\n",
       "      <th>23</th>\n",
       "      <td>La racha de victorias de los Celtics siete año...</td>\n",
       "      <td>La Vanguardia</td>\n",
       "    </tr>\n",
       "    <tr>\n",
       "      <th>24</th>\n",
       "      <td>Así son las 11 playas que llevarán por primera...</td>\n",
       "      <td>El Pais</td>\n",
       "    </tr>\n",
       "    <tr>\n",
       "      <th>25</th>\n",
       "      <td>8tv estrena temporada... cargada de caras nuevas</td>\n",
       "      <td>La Vanguardia</td>\n",
       "    </tr>\n",
       "    <tr>\n",
       "      <th>26</th>\n",
       "      <td>ETA facilita a la Policía francesa las coorden...</td>\n",
       "      <td>ABC</td>\n",
       "    </tr>\n",
       "    <tr>\n",
       "      <th>27</th>\n",
       "      <td>Los incendios en California dejan ya 35 muerto...</td>\n",
       "      <td>ABC</td>\n",
       "    </tr>\n",
       "    <tr>\n",
       "      <th>28</th>\n",
       "      <td>La fiscal: «Hay sobrada prueba de que el PP se...</td>\n",
       "      <td>ABC</td>\n",
       "    </tr>\n",
       "    <tr>\n",
       "      <th>29</th>\n",
       "      <td>El testimonio de Rajoy en 20 frases</td>\n",
       "      <td>La Razon</td>\n",
       "    </tr>\n",
       "    <tr>\n",
       "      <th>...</th>\n",
       "      <td>...</td>\n",
       "      <td>...</td>\n",
       "    </tr>\n",
       "    <tr>\n",
       "      <th>55100</th>\n",
       "      <td>La revolución de los porteros</td>\n",
       "      <td>El Pais</td>\n",
       "    </tr>\n",
       "    <tr>\n",
       "      <th>55101</th>\n",
       "      <td>Las energéticas, a por el equilibrio entre ren...</td>\n",
       "      <td>ABC</td>\n",
       "    </tr>\n",
       "    <tr>\n",
       "      <th>55102</th>\n",
       "      <td>El Vaticano arresta a un cura por  tener porno...</td>\n",
       "      <td>El Mundo</td>\n",
       "    </tr>\n",
       "    <tr>\n",
       "      <th>55103</th>\n",
       "      <td>Especial: los Juegos de México 68</td>\n",
       "      <td>El Pais</td>\n",
       "    </tr>\n",
       "    <tr>\n",
       "      <th>55104</th>\n",
       "      <td>La trayectoria del huracán Irma</td>\n",
       "      <td>El Pais</td>\n",
       "    </tr>\n",
       "    <tr>\n",
       "      <th>55105</th>\n",
       "      <td>Carmena pasa la noche en el hospital tras sufr...</td>\n",
       "      <td>El Mundo</td>\n",
       "    </tr>\n",
       "    <tr>\n",
       "      <th>55106</th>\n",
       "      <td>La gente es muy normal</td>\n",
       "      <td>El Pais</td>\n",
       "    </tr>\n",
       "    <tr>\n",
       "      <th>55107</th>\n",
       "      <td>Volver a Europa</td>\n",
       "      <td>ABC</td>\n",
       "    </tr>\n",
       "    <tr>\n",
       "      <th>55108</th>\n",
       "      <td>China endurece la censura  y pone coto al anon...</td>\n",
       "      <td>El Mundo</td>\n",
       "    </tr>\n",
       "    <tr>\n",
       "      <th>55109</th>\n",
       "      <td>Estar más delgada no te hará más feliz... Apre...</td>\n",
       "      <td>El Mundo</td>\n",
       "    </tr>\n",
       "    <tr>\n",
       "      <th>55110</th>\n",
       "      <td>Incautan el mayor alijo de anabolizantes de Eu...</td>\n",
       "      <td>La Razon</td>\n",
       "    </tr>\n",
       "    <tr>\n",
       "      <th>55111</th>\n",
       "      <td>Nadal, en busca del ‘rodillo’ perdido</td>\n",
       "      <td>El Pais</td>\n",
       "    </tr>\n",
       "    <tr>\n",
       "      <th>55112</th>\n",
       "      <td>Más posibilidades en el  'Instant Replay' y un...</td>\n",
       "      <td>El Mundo</td>\n",
       "    </tr>\n",
       "    <tr>\n",
       "      <th>55113</th>\n",
       "      <td>La integración, el reto que definirá Alemania</td>\n",
       "      <td>El Pais</td>\n",
       "    </tr>\n",
       "    <tr>\n",
       "      <th>55114</th>\n",
       "      <td>La Tomatina de Buñol 2017, en directo</td>\n",
       "      <td>El Pais</td>\n",
       "    </tr>\n",
       "    <tr>\n",
       "      <th>55115</th>\n",
       "      <td>Google y Amazon quieren sus propias ciudades</td>\n",
       "      <td>La Vanguardia</td>\n",
       "    </tr>\n",
       "    <tr>\n",
       "      <th>55116</th>\n",
       "      <td>La Policía registra la consejería de Economía ...</td>\n",
       "      <td>El Pais</td>\n",
       "    </tr>\n",
       "    <tr>\n",
       "      <th>55117</th>\n",
       "      <td>'Caza al hombre' en Copenhague: buscan a tres ...</td>\n",
       "      <td>El Mundo</td>\n",
       "    </tr>\n",
       "    <tr>\n",
       "      <th>55118</th>\n",
       "      <td>Chipre: Liberación para el norte, invasión par...</td>\n",
       "      <td>La Razon</td>\n",
       "    </tr>\n",
       "    <tr>\n",
       "      <th>55119</th>\n",
       "      <td>Atacan y retienen a una camarera que les sigui...</td>\n",
       "      <td>ABC</td>\n",
       "    </tr>\n",
       "    <tr>\n",
       "      <th>55120</th>\n",
       "      <td>La denuncia de una profesora gaditana maltrata...</td>\n",
       "      <td>La Vanguardia</td>\n",
       "    </tr>\n",
       "    <tr>\n",
       "      <th>55121</th>\n",
       "      <td>\"El mejor jugador del mundo debe estar en el m...</td>\n",
       "      <td>El Mundo</td>\n",
       "    </tr>\n",
       "    <tr>\n",
       "      <th>55122</th>\n",
       "      <td>El secretario de Estado, con el ex jefe de  es...</td>\n",
       "      <td>El Mundo</td>\n",
       "    </tr>\n",
       "    <tr>\n",
       "      <th>55123</th>\n",
       "      <td>Ahí queda eso</td>\n",
       "      <td>La Razon</td>\n",
       "    </tr>\n",
       "    <tr>\n",
       "      <th>55124</th>\n",
       "      <td>A los médicos les cuesta vacunarse de la gripe</td>\n",
       "      <td>La Vanguardia</td>\n",
       "    </tr>\n",
       "    <tr>\n",
       "      <th>55125</th>\n",
       "      <td>La mafia detrás de la diáspora venezolana</td>\n",
       "      <td>El Pais</td>\n",
       "    </tr>\n",
       "    <tr>\n",
       "      <th>55126</th>\n",
       "      <td>Rajoy reclama en París una batalla «global» co...</td>\n",
       "      <td>ABC</td>\n",
       "    </tr>\n",
       "    <tr>\n",
       "      <th>55127</th>\n",
       "      <td>De fregar escaleras a  reina del cómic tras de...</td>\n",
       "      <td>El Mundo</td>\n",
       "    </tr>\n",
       "    <tr>\n",
       "      <th>55128</th>\n",
       "      <td>La Banca Privada d'Andorra obvió los controles...</td>\n",
       "      <td>El Pais</td>\n",
       "    </tr>\n",
       "    <tr>\n",
       "      <th>55129</th>\n",
       "      <td>El Supremo ordena investigar a Pilar Barreiro ...</td>\n",
       "      <td>ABC</td>\n",
       "    </tr>\n",
       "  </tbody>\n",
       "</table>\n",
       "<p>55130 rows × 2 columns</p>\n",
       "</div>"
      ],
      "text/plain": [
       "                                                Headline        Journal\n",
       "0      Vuelve para violar a su amiga tras dejarla en ...            ABC\n",
       "1      El ministro del Interior belga: España “ha ido...  La Vanguardia\n",
       "2      Hasta tres cucharadas y media de azúcar en un ...       El Mundo\n",
       "3      El Parlamento británico insiste en que Mark Zu...  La Vanguardia\n",
       "4      Es Satty, el imam al que le explotó 'la madre ...       El Mundo\n",
       "5      Cristina Cifuentes renuncia a su acta de diput...            ABC\n",
       "6      Guardiola, que ya votó por correo, insiste: \"N...       El Mundo\n",
       "7      El 'Forrest Gump' de Libia: correr a Moscú par...       El Mundo\n",
       "8      La firma de hipotecas para la compra de vivien...            ABC\n",
       "9      Willy Toledo cita a la Policía: \"Estaré toda l...       El Mundo\n",
       "10                     «Un tango más»: La extraña pareja       La Razon\n",
       "11     El ministro del Interior amenaza con dimitir y...        El Pais\n",
       "12                 El espectro de Paulino lleva cuchillo        El Pais\n",
       "13     El nuevo protagonismo de la primera dama divid...       La Razon\n",
       "14         La fragilidad moral de Puigdemont y los suyos       La Razon\n",
       "15     Los secretos de Carolina Marín en busca de su ...       El Mundo\n",
       "16     Filosofía feminista: a pesar de Platón… ¡somos...  La Vanguardia\n",
       "17     La deuda pública de España trepa al 98,8%, por...  La Vanguardia\n",
       "18     Prisión sin fianza para el autor confeso del c...            ABC\n",
       "19     Raphael: «‘‘Mi gran noche’’ es una borrachera ...       La Razon\n",
       "20     Cinco muertos y un millón de personas sin elec...       El Mundo\n",
       "21     “¿Presos políticos? Es una banalización y falt...        El Pais\n",
       "22     Críticas al Gobernador de Canadá por tocar a l...        El Pais\n",
       "23     La racha de victorias de los Celtics siete año...  La Vanguardia\n",
       "24     Así son las 11 playas que llevarán por primera...        El Pais\n",
       "25      8tv estrena temporada... cargada de caras nuevas  La Vanguardia\n",
       "26     ETA facilita a la Policía francesa las coorden...            ABC\n",
       "27     Los incendios en California dejan ya 35 muerto...            ABC\n",
       "28     La fiscal: «Hay sobrada prueba de que el PP se...            ABC\n",
       "29                   El testimonio de Rajoy en 20 frases       La Razon\n",
       "...                                                  ...            ...\n",
       "55100                      La revolución de los porteros        El Pais\n",
       "55101  Las energéticas, a por el equilibrio entre ren...            ABC\n",
       "55102  El Vaticano arresta a un cura por  tener porno...       El Mundo\n",
       "55103                  Especial: los Juegos de México 68        El Pais\n",
       "55104                    La trayectoria del huracán Irma        El Pais\n",
       "55105  Carmena pasa la noche en el hospital tras sufr...       El Mundo\n",
       "55106                             La gente es muy normal        El Pais\n",
       "55107                                    Volver a Europa            ABC\n",
       "55108  China endurece la censura  y pone coto al anon...       El Mundo\n",
       "55109  Estar más delgada no te hará más feliz... Apre...       El Mundo\n",
       "55110  Incautan el mayor alijo de anabolizantes de Eu...       La Razon\n",
       "55111              Nadal, en busca del ‘rodillo’ perdido        El Pais\n",
       "55112  Más posibilidades en el  'Instant Replay' y un...       El Mundo\n",
       "55113      La integración, el reto que definirá Alemania        El Pais\n",
       "55114              La Tomatina de Buñol 2017, en directo        El Pais\n",
       "55115       Google y Amazon quieren sus propias ciudades  La Vanguardia\n",
       "55116  La Policía registra la consejería de Economía ...        El Pais\n",
       "55117  'Caza al hombre' en Copenhague: buscan a tres ...       El Mundo\n",
       "55118  Chipre: Liberación para el norte, invasión par...       La Razon\n",
       "55119  Atacan y retienen a una camarera que les sigui...            ABC\n",
       "55120  La denuncia de una profesora gaditana maltrata...  La Vanguardia\n",
       "55121  \"El mejor jugador del mundo debe estar en el m...       El Mundo\n",
       "55122  El secretario de Estado, con el ex jefe de  es...       El Mundo\n",
       "55123                                      Ahí queda eso       La Razon\n",
       "55124     A los médicos les cuesta vacunarse de la gripe  La Vanguardia\n",
       "55125          La mafia detrás de la diáspora venezolana        El Pais\n",
       "55126  Rajoy reclama en París una batalla «global» co...            ABC\n",
       "55127  De fregar escaleras a  reina del cómic tras de...       El Mundo\n",
       "55128  La Banca Privada d'Andorra obvió los controles...        El Pais\n",
       "55129  El Supremo ordena investigar a Pilar Barreiro ...            ABC\n",
       "\n",
       "[55130 rows x 2 columns]"
      ]
     },
     "execution_count": 7,
     "metadata": {},
     "output_type": "execute_result"
    }
   ],
   "source": [
    "min_per_df = Headlines.keeping_min_headlines(data, periodicos_df, min_number)\n",
    "min_per_df"
   ]
  },
  {
   "cell_type": "code",
   "execution_count": 8,
   "metadata": {
    "collapsed": true
   },
   "outputs": [],
   "source": [
    "# Obtaining concantenated headlines in order to build the dictionary\n",
    "concatenated_hl = Headlines.concatenate_headlines(data, df = min_per_df)"
   ]
  },
  {
   "cell_type": "code",
   "execution_count": null,
   "metadata": {},
   "outputs": [
    {
     "name": "stdout",
     "output_type": "stream",
     "text": [
      "The dictionary contains 34841 words\n"
     ]
    }
   ],
   "source": [
    "# Building dictionary from headlines\n",
    "sequence_hl = Text_Sequence(concatenated_hl)\n",
    "dictionary_hl, len_dict = Text_Sequence.creating_dict(sequence_hl)\n",
    "print ('The dictionary contains', len_dict, 'words')"
   ]
  },
  {
   "cell_type": "code",
   "execution_count": null,
   "metadata": {},
   "outputs": [],
   "source": [
    "# Mapping headlines to integer\n",
    "x_int = Headlines.headlines_to_int(data, min_per_df, dictionary_hl)\n",
    "x_int"
   ]
  },
  {
   "cell_type": "code",
   "execution_count": null,
   "metadata": {},
   "outputs": [],
   "source": [
    "# Labelling journal names \n",
    "y_int = Headlines.y_to_int(data, min_per_df)\n",
    "y_int"
   ]
  },
  {
   "cell_type": "code",
   "execution_count": null,
   "metadata": {},
   "outputs": [],
   "source": [
    "y_int[0:20]"
   ]
  },
  {
   "cell_type": "code",
   "execution_count": null,
   "metadata": {},
   "outputs": [],
   "source": [
    "y_onehot = np_utils.to_categorical(y_int)\n",
    "y_onehot"
   ]
  },
  {
   "cell_type": "code",
   "execution_count": null,
   "metadata": {},
   "outputs": [],
   "source": [
    "# In Keras, sequences must have the same length\n",
    "# Searching for the longest length of headlines\n",
    "max_headline_lenght = Headlines.max_hl_length(data, x_int)"
   ]
  },
  {
   "cell_type": "code",
   "execution_count": null,
   "metadata": {},
   "outputs": [],
   "source": [
    "#truncate and pad input sequences\n",
    "x_samelength = sequence.pad_sequences(x_int, maxlen=max_headline_lenght)\n",
    "x_samelength"
   ]
  },
  {
   "cell_type": "code",
   "execution_count": null,
   "metadata": {},
   "outputs": [],
   "source": [
    "# Dividing between training and test set\n",
    "#x_train, x_test, y_train, y_test = Headlines.splitting_data(data, x_samelength, y_onehot, 0.1)\n",
    "x_train, x_val, x_test, y_train, y_val, y_test = Headlines.splitting_data_threesets(data, x_samelength, y_onehot, 0.8)"
   ]
  },
  {
   "cell_type": "code",
   "execution_count": null,
   "metadata": {},
   "outputs": [],
   "source": [
    "# Loading a pre-trained Spanish embedding \n",
    "words, embeddings = pickle.load(open('polyglot-es.pkl', 'rb'), encoding='latin1')\n",
    "print(\"Emebddings shape is {}\".format(embeddings.shape))"
   ]
  },
  {
   "cell_type": "code",
   "execution_count": null,
   "metadata": {
    "collapsed": true
   },
   "outputs": [],
   "source": [
    "#Defining Adam optimizer\n",
    "epochss = 1000\n",
    "learning_rate = 1e-4\n",
    "decay_rate = learning_rate/epochss\n",
    "adamm = Adam(lr=learning_rate, beta_1=0.1, beta_2=0.001, epsilon=1e-08, decay=decay_rate)"
   ]
  },
  {
   "cell_type": "code",
   "execution_count": null,
   "metadata": {
    "collapsed": true
   },
   "outputs": [],
   "source": [
    "#create the LSTM model\n",
    "def baseline_model():\n",
    "#first layer: embedded layer. uses 5 length vectors to represent each word\n",
    "    embedding_vector_length = 64\n",
    "    model=Sequential()\n",
    "    \n",
    "    #model.add(Embedding(len_dict, embedding_vector_length, input_length=max_headline_lenght))\n",
    "    model.add(Embedding(100004, embedding_vector_length, trainable =False, weights= [embeddings], input_length=max_headline_lenght))\n",
    "    model.add(Dropout(0.5))\n",
    "    \n",
    "    model.add(Conv1D(filters=embedding_vector_length, kernel_size=3, padding='same'))\n",
    "    model.add(BatchNormalization())\n",
    "    model.add(Activation('relu'))\n",
    "    model.add(Dropout(0.15))\n",
    "\n",
    "#Next layer: LSTM layer with 100 memory units\n",
    "    model.add(LSTM(100, dropout=0.5, recurrent_dropout=0.0, activation=None))\n",
    "    model.add(BatchNormalization())\n",
    "    model.add(Activation('tanh'))\n",
    "    \n",
    "    model.add(Dense(512))\n",
    "    model.add(BatchNormalization())\n",
    "    model.add(Activation('relu'))\n",
    "    model.add(Dropout(0.5))\n",
    "    \n",
    "    model.add(Dense(256))\n",
    "    model.add(BatchNormalization())\n",
    "    model.add(Activation('relu'))\n",
    "    model.add(Dropout(0.5))\n",
    "    \n",
    "    model.add(Dense(128))\n",
    "    model.add(BatchNormalization())\n",
    "    model.add(Activation('relu'))\n",
    "    model.add(Dropout(0.5))\n",
    "    \n",
    "    model.add(Dense(64))\n",
    "    model.add(BatchNormalization())\n",
    "    model.add(Activation('relu'))\n",
    "    model.add(Dropout(0.5))\n",
    "    \n",
    "    model.add(Dense(32))\n",
    "    model.add(BatchNormalization())\n",
    "    model.add(Activation('relu'))\n",
    "    model.add(Dropout(0.5))\n",
    "    \n",
    "    model.add(Dense(16))\n",
    "    model.add(BatchNormalization())\n",
    "    model.add(Activation('relu'))\n",
    "    model.add(Dropout(0.5))\n",
    "\n",
    "\n",
    "#Because we used a one-hot encoding for our iris dataset, the output layer must create 3 output values, one for each class.\n",
    "    model.add(Dense(5))\n",
    "    model.add(BatchNormalization())\n",
    "    model.add(Activation('softmax'))\n",
    "\n",
    "#Because it is a binary classification problem, log loss is used as the loss function \n",
    "\n",
    "#Because it is a multi-class classification problem, categorical cross entropy is used as the loss function\n",
    "    model.compile(loss='categorical_crossentropy', optimizer = adamm, metrics=['accuracy'])\n",
    "    print(model.summary())\n",
    "    return model"
   ]
  },
  {
   "cell_type": "code",
   "execution_count": null,
   "metadata": {},
   "outputs": [],
   "source": [
    "# WAY 2: no sklearn wrapper, simply using keras\n",
    "model = baseline_model()\n",
    "#history = model.fit(x_train, y_train, validation_data= (x_test, y_test), epochs=200, batch_size=64)"
   ]
  },
  {
   "cell_type": "code",
   "execution_count": null,
   "metadata": {
    "collapsed": true
   },
   "outputs": [],
   "source": [
    "# define the checkpoint\n",
    "dirr = os.path.dirname(os.path.realpath('__file__'))\n",
    "filepath = os.path.join(dirr, 'LSTM_journals','weights-improvement-{epoch:03d}-{val_acc:.4f}.hdf5')\n",
    "checkpoint = ModelCheckpoint(filepath, monitor='val_acc', verbose=1, save_best_only=True, mode='max')\n",
    "callbacks_list = [checkpoint]"
   ]
  },
  {
   "cell_type": "code",
   "execution_count": null,
   "metadata": {},
   "outputs": [],
   "source": [
    "#history = model.fit(x_train, y_train, validation_data= (x_test, y_test), epochs=epochss, batch_size=128, callbacks=callbacks_list)\n",
    "\n",
    "history = model.fit(x_train, y_train, validation_data= (x_val, y_val), epochs=epochss, batch_size=128, callbacks=callbacks_list)"
   ]
  },
  {
   "cell_type": "code",
   "execution_count": null,
   "metadata": {},
   "outputs": [],
   "source": [
    "# buscamos cargar los pesos de mayor val_acc\n",
    "val_acc = history.history['val_acc']\n",
    "best_valacc = max(val_acc)\n",
    "best_valacc_round = round(best_valacc, 4)\n",
    "best_valacc_round\n",
    "weights_file = glob.glob(os.path.join(dirr, 'LSTM_journals','weights-improvement-*-%s.hdf5' % best_valacc_round))[0]\n",
    "weights_file"
   ]
  },
  {
   "cell_type": "code",
   "execution_count": null,
   "metadata": {
    "collapsed": true
   },
   "outputs": [],
   "source": [
    "# load the network weights\n",
    "#filename = \"weights-improvement-440-0.3196.hdf5\"\n",
    "#model.load_weights(filename)\n",
    "#model.compile(loss='categorical_crossentropy', optimizer='adam')"
   ]
  },
  {
   "cell_type": "code",
   "execution_count": null,
   "metadata": {},
   "outputs": [],
   "source": []
  },
  {
   "cell_type": "code",
   "execution_count": null,
   "metadata": {},
   "outputs": [],
   "source": [
    "# summarize history for accuracy\n",
    "plt.plot(history.history['acc'])\n",
    "plt.plot(history.history['val_acc'])\n",
    "plt.title('model accuracy')\n",
    "plt.ylabel('accuracy')\n",
    "plt.xlabel('epoch')\n",
    "plt.legend(['train', 'test'], loc='upper left')\n",
    "plt.show()\n",
    "# summarize history for loss\n",
    "plt.plot(history.history['loss'])\n",
    "plt.plot(history.history['val_loss'])\n",
    "plt.title('model loss')\n",
    "plt.ylabel('loss')\n",
    "plt.xlabel('epoch')\n",
    "plt.legend(['train', 'test'], loc='upper left')\n",
    "plt.show()"
   ]
  },
  {
   "cell_type": "code",
   "execution_count": null,
   "metadata": {},
   "outputs": [],
   "source": [
    "y_predprob = model.predict(x_test)\n",
    "y_pred = model.predict_classes(x_test)\n",
    "y_pred_decoded = Headlines.int_to_journal(data, y_pred)\n",
    "\n",
    "y_trpred = model.predict_classes(x_train)\n",
    "y_trpred_decoded = Headlines.int_to_journal(data, y_trpred)"
   ]
  },
  {
   "cell_type": "code",
   "execution_count": null,
   "metadata": {},
   "outputs": [],
   "source": [
    "#Predicting in the test set\n",
    "#y_pred = estimator.predict(x_test)\n",
    "#y_pred_decoded = Headlines.int_to_journal(data, y_pred)\n",
    "#y_pred = encoder.inverse_transform(predictions)\n",
    "\n",
    "#y_predprob = estimator.predict_proba(x_test)[:,1]\n",
    "#y_trpred = estimator.predict(x_train)\n",
    "#y_trpred_decoded = Headlines.int_to_journal(data, y_trpred)\n",
    "\n",
    "y_pred"
   ]
  },
  {
   "cell_type": "code",
   "execution_count": null,
   "metadata": {
    "collapsed": true
   },
   "outputs": [],
   "source": [
    "#Both y_train and y_test are one-hot-encoded. Decoding them for model reporting.\n",
    "y_train_tocat = Headlines.onehot_to_categorical(data, y_train)\n",
    "y_test_tocat = Headlines.onehot_to_categorical(data, y_test)"
   ]
  },
  {
   "cell_type": "code",
   "execution_count": null,
   "metadata": {},
   "outputs": [],
   "source": [
    "#Print model report:\n",
    "print (\"\\nModel Report\")\n",
    "print (\"Accuracy (train set): %.4g\" % metrics.accuracy_score(y_train_tocat, y_trpred))\n",
    "print (\"Accuracy (test set): %.4g\" % metrics.accuracy_score(y_test_tocat, y_pred))\n",
    "print(\"Confusion matrix:\")\n",
    "print (metrics.confusion_matrix(y_test_tocat, y_pred))\n",
    "print(\"Detailed classification report:\")\n",
    "print (metrics.classification_report(y_test_tocat, y_pred))"
   ]
  },
  {
   "cell_type": "code",
   "execution_count": null,
   "metadata": {
    "collapsed": true
   },
   "outputs": [],
   "source": [
    "# Evaluating the model with k-Fold Validation\n",
    "seed=7\n",
    "kfold = KFold(n_splits=10, shuffle=True, random_state=seed)\n",
    "results = cross_val_score(estimator, x_train, y_train, cv=kfold)\n",
    "print(\"Baseline: %.2f%% (%.2f%%)\" % (results.mean()*100, results.std()*100))"
   ]
  },
  {
   "cell_type": "code",
   "execution_count": null,
   "metadata": {
    "collapsed": true
   },
   "outputs": [],
   "source": []
  },
  {
   "cell_type": "code",
   "execution_count": null,
   "metadata": {
    "collapsed": true
   },
   "outputs": [],
   "source": []
  },
  {
   "cell_type": "code",
   "execution_count": null,
   "metadata": {
    "collapsed": true
   },
   "outputs": [],
   "source": []
  },
  {
   "cell_type": "code",
   "execution_count": null,
   "metadata": {},
   "outputs": [],
   "source": []
  },
  {
   "cell_type": "code",
   "execution_count": null,
   "metadata": {},
   "outputs": [],
   "source": []
  },
  {
   "cell_type": "code",
   "execution_count": null,
   "metadata": {
    "collapsed": true
   },
   "outputs": [],
   "source": []
  }
 ],
 "metadata": {
  "kernelspec": {
   "display_name": "Python 3",
   "language": "python",
   "name": "python3"
  },
  "language_info": {
   "codemirror_mode": {
    "name": "ipython",
    "version": 3
   },
   "file_extension": ".py",
   "mimetype": "text/x-python",
   "name": "python",
   "nbconvert_exporter": "python",
   "pygments_lexer": "ipython3",
   "version": "3.5.2"
  }
 },
 "nbformat": 4,
 "nbformat_minor": 2
}
